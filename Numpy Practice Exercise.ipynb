{
 "cells": [
  {
   "cell_type": "code",
   "execution_count": 3,
   "metadata": {},
   "outputs": [
    {
     "name": "stdout",
     "output_type": "stream",
     "text": [
      "1.16.5\n"
     ]
    }
   ],
   "source": [
    "import numpy as np\n",
    "print(np.__version__)"
   ]
  },
  {
   "cell_type": "code",
   "execution_count": 8,
   "metadata": {},
   "outputs": [
    {
     "name": "stdout",
     "output_type": "stream",
     "text": [
      "[0 1 2 3 4 5 6 7 8 9]\n"
     ]
    },
    {
     "data": {
      "text/plain": [
       "numpy.ndarray"
      ]
     },
     "execution_count": 8,
     "metadata": {},
     "output_type": "execute_result"
    }
   ],
   "source": [
    "print(np.arange(10))\n",
    "type(np.arange(10))"
   ]
  },
  {
   "cell_type": "code",
   "execution_count": 7,
   "metadata": {},
   "outputs": [
    {
     "data": {
      "text/plain": [
       "array([[ True,  True,  True],\n",
       "       [ True,  True,  True],\n",
       "       [ True,  True,  True]])"
      ]
     },
     "execution_count": 7,
     "metadata": {},
     "output_type": "execute_result"
    }
   ],
   "source": [
    "np.full((3,3),True,dtype=bool)"
   ]
  },
  {
   "cell_type": "code",
   "execution_count": 9,
   "metadata": {},
   "outputs": [
    {
     "data": {
      "text/plain": [
       "array([1, 3, 5, 7, 9])"
      ]
     },
     "execution_count": 9,
     "metadata": {},
     "output_type": "execute_result"
    }
   ],
   "source": [
    "arr = np.arange(10)\n",
    "arr[arr%2==1]\n"
   ]
  },
  {
   "cell_type": "code",
   "execution_count": 12,
   "metadata": {},
   "outputs": [
    {
     "data": {
      "text/plain": [
       "array([ 0, -1,  2, -1,  4, -1,  6, -1,  8, -1])"
      ]
     },
     "execution_count": 12,
     "metadata": {},
     "output_type": "execute_result"
    }
   ],
   "source": [
    "arr[arr%2==1]=-1\n",
    "arr"
   ]
  },
  {
   "cell_type": "code",
   "execution_count": 17,
   "metadata": {},
   "outputs": [
    {
     "name": "stdout",
     "output_type": "stream",
     "text": [
      "[0 1 2 3 4 5 6 7 8 9]\n"
     ]
    },
    {
     "data": {
      "text/plain": [
       "array([ 0, -1,  2, -1,  4, -1,  6, -1,  8, -1])"
      ]
     },
     "execution_count": 17,
     "metadata": {},
     "output_type": "execute_result"
    }
   ],
   "source": [
    "arr = np.arange(10)\n",
    "arr2 = np.where(arr%2==1,-1,arr)\n",
    "print(arr)\n",
    "arr2"
   ]
  },
  {
   "cell_type": "code",
   "execution_count": 22,
   "metadata": {},
   "outputs": [
    {
     "name": "stdout",
     "output_type": "stream",
     "text": [
      "[0 1 2 3 4 5 6 7 8 9]\n"
     ]
    },
    {
     "data": {
      "text/plain": [
       "array([[0, 1, 2, 3, 4],\n",
       "       [5, 6, 7, 8, 9]])"
      ]
     },
     "execution_count": 22,
     "metadata": {},
     "output_type": "execute_result"
    }
   ],
   "source": [
    "arr = np.arange(10)\n",
    "print(arr)\n",
    "arr.reshape(2,5)"
   ]
  },
  {
   "cell_type": "code",
   "execution_count": 31,
   "metadata": {},
   "outputs": [
    {
     "name": "stdout",
     "output_type": "stream",
     "text": [
      "[[0 1 2 3 4]\n",
      " [5 6 7 8 9]]\n",
      "[[1 1 1 1 1]\n",
      " [1 1 1 1 1]]\n",
      "[[0 1 2 3 4]\n",
      " [5 6 7 8 9]\n",
      " [1 1 1 1 1]\n",
      " [1 1 1 1 1]]\n",
      "[[0 1 2 3 4]\n",
      " [5 6 7 8 9]\n",
      " [1 1 1 1 1]\n",
      " [1 1 1 1 1]]\n",
      "[[0 1 2 3 4]\n",
      " [5 6 7 8 9]\n",
      " [1 1 1 1 1]\n",
      " [1 1 1 1 1]]\n"
     ]
    },
    {
     "data": {
      "text/plain": [
       "numpy.ndarray"
      ]
     },
     "execution_count": 31,
     "metadata": {},
     "output_type": "execute_result"
    }
   ],
   "source": [
    "a = np.arange(10).reshape(2,-1)\n",
    "b = np.repeat(1,10).reshape(2,-1)\n",
    "print(a)\n",
    "print(b)\n",
    "\n",
    "print(np.concatenate([a,b]))\n",
    "print(np.vstack([a,b]))\n",
    "print(np.r_[a,b])\n",
    "type(np.concatenate([a,b]))"
   ]
  },
  {
   "cell_type": "code",
   "execution_count": 36,
   "metadata": {},
   "outputs": [
    {
     "name": "stdout",
     "output_type": "stream",
     "text": [
      "[[0 1 2 3 4 1 1 1 1 1]\n",
      " [5 6 7 8 9 1 1 1 1 1]]\n",
      "[[0 1 2 3 4 1 1 1 1 1]\n",
      " [5 6 7 8 9 1 1 1 1 1]]\n",
      "[[0 1 2 3 4 1 1 1 1 1]\n",
      " [5 6 7 8 9 1 1 1 1 1]]\n"
     ]
    }
   ],
   "source": [
    "a = np.arange(10).reshape(2,-1)\n",
    "b = np.repeat(1,10).reshape(2,-1)\n",
    "print(np.concatenate((a,b),axis=1))\n",
    "print(np.hstack([a,b]))\n",
    "print(np.c_[a,b])"
   ]
  },
  {
   "cell_type": "code",
   "execution_count": 47,
   "metadata": {},
   "outputs": [
    {
     "data": {
      "text/plain": [
       "array([1, 1, 1, 2, 2, 2, 3, 3, 3, 1, 2, 3, 1, 2, 3, 1, 2, 3])"
      ]
     },
     "execution_count": 47,
     "metadata": {},
     "output_type": "execute_result"
    }
   ],
   "source": [
    "a = np.array([1,2,3])\n",
    "a\n",
    "#np.concatenate([np.repeat(a, 3), np.tile(a,3)])\n",
    "np.r_[np.repeat(a, 3), np.tile(a,3)]"
   ]
  },
  {
   "cell_type": "code",
   "execution_count": 54,
   "metadata": {},
   "outputs": [
    {
     "data": {
      "text/plain": [
       "array([2, 4])"
      ]
     },
     "execution_count": 54,
     "metadata": {},
     "output_type": "execute_result"
    }
   ],
   "source": [
    "a = np.array([1,2,3,2,3,4,3,4,5,6])\n",
    "b = np.array([7,2,10,2,7,4,9,4,9,8])\n",
    "np.intersect1d(a,b)"
   ]
  },
  {
   "cell_type": "code",
   "execution_count": 56,
   "metadata": {},
   "outputs": [
    {
     "data": {
      "text/plain": [
       "array([1, 2, 3, 4])"
      ]
     },
     "execution_count": 56,
     "metadata": {},
     "output_type": "execute_result"
    }
   ],
   "source": [
    "a = np.array([1,2,3,4,5])\n",
    "b = np.array([5,6,7,8,9])\n",
    "np.setdiff1d(a, b)"
   ]
  },
  {
   "cell_type": "code",
   "execution_count": 57,
   "metadata": {},
   "outputs": [
    {
     "data": {
      "text/plain": [
       "(array([1, 3, 5, 7], dtype=int64),)"
      ]
     },
     "execution_count": 57,
     "metadata": {},
     "output_type": "execute_result"
    }
   ],
   "source": [
    "a = np.array([1,2,3,2,3,4,3,4,5,6])\n",
    "b = np.array([7,2,4,2,7,4,9,4,9,8])\n",
    "np.where(a==b)"
   ]
  },
  {
   "cell_type": "code",
   "execution_count": 74,
   "metadata": {},
   "outputs": [
    {
     "data": {
      "text/plain": [
       "array([ 6,  9, 10])"
      ]
     },
     "execution_count": 74,
     "metadata": {},
     "output_type": "execute_result"
    }
   ],
   "source": [
    "a = np.array([2, 6, 1, 9, 10, 3, 27])\n",
    "#method1\n",
    "a[(a>4)*(a<11)] \n",
    "#method2\n",
    "index = np.where(np.logical_and(a>=5, a<=10))\n",
    "a[index]\n",
    "#method3\n",
    "index = np.where((5<=a) & (a<=10))\n",
    "a[index]"
   ]
  },
  {
   "cell_type": "code",
   "execution_count": 91,
   "metadata": {},
   "outputs": [
    {
     "data": {
      "text/plain": [
       "array([6, 7, 9, 8, 9, 7, 5])"
      ]
     },
     "execution_count": 91,
     "metadata": {},
     "output_type": "execute_result"
    }
   ],
   "source": [
    "def maxx(x,y):\n",
    "    if x>=y:\n",
    "        return x\n",
    "    else:\n",
    "        return y\n",
    "pair_max = np.vectorize(maxx, otypes=[int])\n",
    "\n",
    "a = np.array([5, 7, 9, 8, 6, 4, 5])\n",
    "b = np.array([6, 3, 4, 8, 9, 7, 1])\n",
    "\n",
    "pair_max(a,b)"
   ]
  },
  {
   "cell_type": "code",
   "execution_count": 93,
   "metadata": {},
   "outputs": [
    {
     "name": "stdout",
     "output_type": "stream",
     "text": [
      "[[0 1 2]\n",
      " [3 4 5]\n",
      " [6 7 8]]\n",
      "[[3 4 5]\n",
      " [0 1 2]\n",
      " [6 7 8]]\n",
      "[[1 0 2]\n",
      " [4 3 5]\n",
      " [7 6 8]]\n"
     ]
    }
   ],
   "source": [
    "arr = np.arange(9).reshape(3,3)\n",
    "print(arr)\n",
    "print(arr[[1,0,2],:])\n",
    "print(arr[:,[1,0,2]])"
   ]
  },
  {
   "cell_type": "code",
   "execution_count": 98,
   "metadata": {},
   "outputs": [
    {
     "name": "stdout",
     "output_type": "stream",
     "text": [
      "[[0 1 2]\n",
      " [3 4 5]\n",
      " [6 7 8]]\n",
      "[[2 1 0]\n",
      " [5 4 3]\n",
      " [8 7 6]]\n",
      "[[8 7 6]\n",
      " [5 4 3]\n",
      " [2 1 0]]\n"
     ]
    }
   ],
   "source": [
    "arr = np.arange(9).reshape(3,3)\n",
    "#[a:b:c] --> start, stop, step\n",
    "print(arr)\n",
    "print(arr[:,::-1])\n",
    "print(arr[::-1,::-1])"
   ]
  },
  {
   "cell_type": "code",
   "execution_count": 108,
   "metadata": {},
   "outputs": [
    {
     "data": {
      "text/plain": [
       "array([[9.6697775 , 9.40269845, 8.14640464],\n",
       "       [9.61258053, 6.08843351, 6.63138563],\n",
       "       [6.67328827, 6.85074689, 7.37405416],\n",
       "       [8.85027322, 6.31499712, 5.26798111],\n",
       "       [9.80520867, 6.32975952, 7.92345225]])"
      ]
     },
     "execution_count": 108,
     "metadata": {},
     "output_type": "execute_result"
    }
   ],
   "source": [
    "#method 1\n",
    "a = np.random.uniform(low=5, high=10, size=(5,3))\n",
    "a\n",
    "#method 2\n",
    "c = np.random.randint(low=5, high=10, size=(5,3)) + np.random.random((5,3))\n",
    "c"
   ]
  },
  {
   "cell_type": "code",
   "execution_count": 111,
   "metadata": {},
   "outputs": [
    {
     "data": {
      "text/plain": [
       "array([[0.154, 0.175, 0.945],\n",
       "       [0.609, 0.749, 0.795],\n",
       "       [0.081, 0.612, 0.054],\n",
       "       [0.998, 0.547, 0.316],\n",
       "       [0.458, 0.482, 0.788]])"
      ]
     },
     "execution_count": 111,
     "metadata": {},
     "output_type": "execute_result"
    }
   ],
   "source": [
    "rand_arr = np.random.random((5,3)).round(decimals = 3)\n",
    "rand_arr"
   ]
  },
  {
   "cell_type": "code",
   "execution_count": 141,
   "metadata": {},
   "outputs": [
    {
     "data": {
      "text/plain": [
       "array([[0.000543, 0.000278, 0.000425],\n",
       "       [0.000845, 0.000005, 0.000122],\n",
       "       [0.000671, 0.000826, 0.000137]])"
      ]
     },
     "execution_count": 141,
     "metadata": {},
     "output_type": "execute_result"
    }
   ],
   "source": [
    "np.random.seed(100)\n",
    "np.set_printoptions(precision=6, suppress=1)\n",
    "rand_arr = np.random.random([3,3])/1e3\n",
    "rand_arr"
   ]
  },
  {
   "cell_type": "code",
   "execution_count": 3,
   "metadata": {},
   "outputs": [
    {
     "data": {
      "text/plain": [
       "array([ 0,  1,  2,  3,  4,  5,  6,  7,  8,  9, 10, 11, 12, 13, 14])"
      ]
     },
     "execution_count": 3,
     "metadata": {},
     "output_type": "execute_result"
    }
   ],
   "source": [
    "np.set_printoptions(threshold=6)\n",
    "a = np.arange(15)\n",
    "a"
   ]
  },
  {
   "cell_type": "code",
   "execution_count": 20,
   "metadata": {},
   "outputs": [
    {
     "name": "stdout",
     "output_type": "stream",
     "text": [
      "[['5.1' '3.5' '1.4' '0.2' 'Iris-setosa']\n",
      " ['4.9' '3.0' '1.4' '0.2' 'Iris-setosa']\n",
      " ['4.7' '3.2' '1.3' '0.2' 'Iris-setosa']\n",
      " ['4.6' '3.1' '1.5' '0.2' 'Iris-setosa']\n",
      " ['5.0' '3.6' '1.4' '0.2' 'Iris-setosa']\n",
      " ['5.4' '3.9' '1.7' '0.4' 'Iris-setosa']\n",
      " ['4.6' '3.4' '1.4' '0.3' 'Iris-setosa']\n",
      " ['5.0' '3.4' '1.5' '0.2' 'Iris-setosa']\n",
      " ['4.4' '2.9' '1.4' '0.2' 'Iris-setosa']\n",
      " ['4.9' '3.1' '1.5' '0.1' 'Iris-setosa']\n",
      " ['5.4' '3.7' '1.5' '0.2' 'Iris-setosa']\n",
      " ['4.8' '3.4' '1.6' '0.2' 'Iris-setosa']\n",
      " ['4.8' '3.0' '1.4' '0.1' 'Iris-setosa']\n",
      " ['4.3' '3.0' '1.1' '0.1' 'Iris-setosa']\n",
      " ['5.8' '4.0' '1.2' '0.2' 'Iris-setosa']\n",
      " ['5.7' '4.4' '1.5' '0.4' 'Iris-setosa']\n",
      " ['5.4' '3.9' '1.3' '0.4' 'Iris-setosa']\n",
      " ['5.1' '3.5' '1.4' '0.3' 'Iris-setosa']\n",
      " ['5.7' '3.8' '1.7' '0.3' 'Iris-setosa']\n",
      " ['5.1' '3.8' '1.5' '0.3' 'Iris-setosa']\n",
      " ['5.4' '3.4' '1.7' '0.2' 'Iris-setosa']\n",
      " ['5.1' '3.7' '1.5' '0.4' 'Iris-setosa']\n",
      " ['4.6' '3.6' '1.0' '0.2' 'Iris-setosa']\n",
      " ['5.1' '3.3' '1.7' '0.5' 'Iris-setosa']\n",
      " ['4.8' '3.4' '1.9' '0.2' 'Iris-setosa']\n",
      " ['5.0' '3.0' '1.6' '0.2' 'Iris-setosa']\n",
      " ['5.0' '3.4' '1.6' '0.4' 'Iris-setosa']\n",
      " ['5.2' '3.5' '1.5' '0.2' 'Iris-setosa']\n",
      " ['5.2' '3.4' '1.4' '0.2' 'Iris-setosa']\n",
      " ['4.7' '3.2' '1.6' '0.2' 'Iris-setosa']\n",
      " ['4.8' '3.1' '1.6' '0.2' 'Iris-setosa']\n",
      " ['5.4' '3.4' '1.5' '0.4' 'Iris-setosa']\n",
      " ['5.2' '4.1' '1.5' '0.1' 'Iris-setosa']\n",
      " ['5.5' '4.2' '1.4' '0.2' 'Iris-setosa']\n",
      " ['4.9' '3.1' '1.5' '0.1' 'Iris-setosa']\n",
      " ['5.0' '3.2' '1.2' '0.2' 'Iris-setosa']\n",
      " ['5.5' '3.5' '1.3' '0.2' 'Iris-setosa']\n",
      " ['4.9' '3.1' '1.5' '0.1' 'Iris-setosa']\n",
      " ['4.4' '3.0' '1.3' '0.2' 'Iris-setosa']\n",
      " ['5.1' '3.4' '1.5' '0.2' 'Iris-setosa']\n",
      " ['5.0' '3.5' '1.3' '0.3' 'Iris-setosa']\n",
      " ['4.5' '2.3' '1.3' '0.3' 'Iris-setosa']\n",
      " ['4.4' '3.2' '1.3' '0.2' 'Iris-setosa']\n",
      " ['5.0' '3.5' '1.6' '0.6' 'Iris-setosa']\n",
      " ['5.1' '3.8' '1.9' '0.4' 'Iris-setosa']\n",
      " ['4.8' '3.0' '1.4' '0.3' 'Iris-setosa']\n",
      " ['5.1' '3.8' '1.6' '0.2' 'Iris-setosa']\n",
      " ['4.6' '3.2' '1.4' '0.2' 'Iris-setosa']\n",
      " ['5.3' '3.7' '1.5' '0.2' 'Iris-setosa']\n",
      " ['5.0' '3.3' '1.4' '0.2' 'Iris-setosa']\n",
      " ['7.0' '3.2' '4.7' '1.4' 'Iris-versicolor']\n",
      " ['6.4' '3.2' '4.5' '1.5' 'Iris-versicolor']\n",
      " ['6.9' '3.1' '4.9' '1.5' 'Iris-versicolor']\n",
      " ['5.5' '2.3' '4.0' '1.3' 'Iris-versicolor']\n",
      " ['6.5' '2.8' '4.6' '1.5' 'Iris-versicolor']\n",
      " ['5.7' '2.8' '4.5' '1.3' 'Iris-versicolor']\n",
      " ['6.3' '3.3' '4.7' '1.6' 'Iris-versicolor']\n",
      " ['4.9' '2.4' '3.3' '1.0' 'Iris-versicolor']\n",
      " ['6.6' '2.9' '4.6' '1.3' 'Iris-versicolor']\n",
      " ['5.2' '2.7' '3.9' '1.4' 'Iris-versicolor']\n",
      " ['5.0' '2.0' '3.5' '1.0' 'Iris-versicolor']\n",
      " ['5.9' '3.0' '4.2' '1.5' 'Iris-versicolor']\n",
      " ['6.0' '2.2' '4.0' '1.0' 'Iris-versicolor']\n",
      " ['6.1' '2.9' '4.7' '1.4' 'Iris-versicolor']\n",
      " ['5.6' '2.9' '3.6' '1.3' 'Iris-versicolor']\n",
      " ['6.7' '3.1' '4.4' '1.4' 'Iris-versicolor']\n",
      " ['5.6' '3.0' '4.5' '1.5' 'Iris-versicolor']\n",
      " ['5.8' '2.7' '4.1' '1.0' 'Iris-versicolor']\n",
      " ['6.2' '2.2' '4.5' '1.5' 'Iris-versicolor']\n",
      " ['5.6' '2.5' '3.9' '1.1' 'Iris-versicolor']\n",
      " ['5.9' '3.2' '4.8' '1.8' 'Iris-versicolor']\n",
      " ['6.1' '2.8' '4.0' '1.3' 'Iris-versicolor']\n",
      " ['6.3' '2.5' '4.9' '1.5' 'Iris-versicolor']\n",
      " ['6.1' '2.8' '4.7' '1.2' 'Iris-versicolor']\n",
      " ['6.4' '2.9' '4.3' '1.3' 'Iris-versicolor']\n",
      " ['6.6' '3.0' '4.4' '1.4' 'Iris-versicolor']\n",
      " ['6.8' '2.8' '4.8' '1.4' 'Iris-versicolor']\n",
      " ['6.7' '3.0' '5.0' '1.7' 'Iris-versicolor']\n",
      " ['6.0' '2.9' '4.5' '1.5' 'Iris-versicolor']\n",
      " ['5.7' '2.6' '3.5' '1.0' 'Iris-versicolor']\n",
      " ['5.5' '2.4' '3.8' '1.1' 'Iris-versicolor']\n",
      " ['5.5' '2.4' '3.7' '1.0' 'Iris-versicolor']\n",
      " ['5.8' '2.7' '3.9' '1.2' 'Iris-versicolor']\n",
      " ['6.0' '2.7' '5.1' '1.6' 'Iris-versicolor']\n",
      " ['5.4' '3.0' '4.5' '1.5' 'Iris-versicolor']\n",
      " ['6.0' '3.4' '4.5' '1.6' 'Iris-versicolor']\n",
      " ['6.7' '3.1' '4.7' '1.5' 'Iris-versicolor']\n",
      " ['6.3' '2.3' '4.4' '1.3' 'Iris-versicolor']\n",
      " ['5.6' '3.0' '4.1' '1.3' 'Iris-versicolor']\n",
      " ['5.5' '2.5' '4.0' '1.3' 'Iris-versicolor']\n",
      " ['5.5' '2.6' '4.4' '1.2' 'Iris-versicolor']\n",
      " ['6.1' '3.0' '4.6' '1.4' 'Iris-versicolor']\n",
      " ['5.8' '2.6' '4.0' '1.2' 'Iris-versicolor']\n",
      " ['5.0' '2.3' '3.3' '1.0' 'Iris-versicolor']\n",
      " ['5.6' '2.7' '4.2' '1.3' 'Iris-versicolor']\n",
      " ['5.7' '3.0' '4.2' '1.2' 'Iris-versicolor']\n",
      " ['5.7' '2.9' '4.2' '1.3' 'Iris-versicolor']\n",
      " ['6.2' '2.9' '4.3' '1.3' 'Iris-versicolor']\n",
      " ['5.1' '2.5' '3.0' '1.1' 'Iris-versicolor']\n",
      " ['5.7' '2.8' '4.1' '1.3' 'Iris-versicolor']\n",
      " ['6.3' '3.3' '6.0' '2.5' 'Iris-virginica']\n",
      " ['5.8' '2.7' '5.1' '1.9' 'Iris-virginica']\n",
      " ['7.1' '3.0' '5.9' '2.1' 'Iris-virginica']\n",
      " ['6.3' '2.9' '5.6' '1.8' 'Iris-virginica']\n",
      " ['6.5' '3.0' '5.8' '2.2' 'Iris-virginica']\n",
      " ['7.6' '3.0' '6.6' '2.1' 'Iris-virginica']\n",
      " ['4.9' '2.5' '4.5' '1.7' 'Iris-virginica']\n",
      " ['7.3' '2.9' '6.3' '1.8' 'Iris-virginica']\n",
      " ['6.7' '2.5' '5.8' '1.8' 'Iris-virginica']\n",
      " ['7.2' '3.6' '6.1' '2.5' 'Iris-virginica']\n",
      " ['6.5' '3.2' '5.1' '2.0' 'Iris-virginica']\n",
      " ['6.4' '2.7' '5.3' '1.9' 'Iris-virginica']\n",
      " ['6.8' '3.0' '5.5' '2.1' 'Iris-virginica']\n",
      " ['5.7' '2.5' '5.0' '2.0' 'Iris-virginica']\n",
      " ['5.8' '2.8' '5.1' '2.4' 'Iris-virginica']\n",
      " ['6.4' '3.2' '5.3' '2.3' 'Iris-virginica']\n",
      " ['6.5' '3.0' '5.5' '1.8' 'Iris-virginica']\n",
      " ['7.7' '3.8' '6.7' '2.2' 'Iris-virginica']\n",
      " ['7.7' '2.6' '6.9' '2.3' 'Iris-virginica']\n",
      " ['6.0' '2.2' '5.0' '1.5' 'Iris-virginica']\n",
      " ['6.9' '3.2' '5.7' '2.3' 'Iris-virginica']\n",
      " ['5.6' '2.8' '4.9' '2.0' 'Iris-virginica']\n",
      " ['7.7' '2.8' '6.7' '2.0' 'Iris-virginica']\n",
      " ['6.3' '2.7' '4.9' '1.8' 'Iris-virginica']\n",
      " ['6.7' '3.3' '5.7' '2.1' 'Iris-virginica']\n",
      " ['7.2' '3.2' '6.0' '1.8' 'Iris-virginica']\n",
      " ['6.2' '2.8' '4.8' '1.8' 'Iris-virginica']\n",
      " ['6.1' '3.0' '4.9' '1.8' 'Iris-virginica']\n",
      " ['6.4' '2.8' '5.6' '2.1' 'Iris-virginica']\n",
      " ['7.2' '3.0' '5.8' '1.6' 'Iris-virginica']\n",
      " ['7.4' '2.8' '6.1' '1.9' 'Iris-virginica']\n",
      " ['7.9' '3.8' '6.4' '2.0' 'Iris-virginica']\n",
      " ['6.4' '2.8' '5.6' '2.2' 'Iris-virginica']\n",
      " ['6.3' '2.8' '5.1' '1.5' 'Iris-virginica']\n",
      " ['6.1' '2.6' '5.6' '1.4' 'Iris-virginica']\n",
      " ['7.7' '3.0' '6.1' '2.3' 'Iris-virginica']\n",
      " ['6.3' '3.4' '5.6' '2.4' 'Iris-virginica']\n",
      " ['6.4' '3.1' '5.5' '1.8' 'Iris-virginica']\n",
      " ['6.0' '3.0' '4.8' '1.8' 'Iris-virginica']\n",
      " ['6.9' '3.1' '5.4' '2.1' 'Iris-virginica']\n",
      " ['6.7' '3.1' '5.6' '2.4' 'Iris-virginica']\n",
      " ['6.9' '3.1' '5.1' '2.3' 'Iris-virginica']\n",
      " ['5.8' '2.7' '5.1' '1.9' 'Iris-virginica']\n",
      " ['6.8' '3.2' '5.9' '2.3' 'Iris-virginica']\n",
      " ['6.7' '3.3' '5.7' '2.5' 'Iris-virginica']\n",
      " ['6.7' '3.0' '5.2' '2.3' 'Iris-virginica']\n",
      " ['6.3' '2.5' '5.0' '1.9' 'Iris-virginica']\n",
      " ['6.5' '3.0' '5.2' '2.0' 'Iris-virginica']\n",
      " ['6.2' '3.4' '5.4' '2.3' 'Iris-virginica']\n",
      " ['5.9' '3.0' '5.1' '1.8' 'Iris-virginica']]\n"
     ]
    },
    {
     "data": {
      "text/plain": [
       "array([[b'5.1', b'3.5', b'1.4', b'0.2', b'Iris-setosa'],\n",
       "       [b'4.9', b'3.0', b'1.4', b'0.2', b'Iris-setosa'],\n",
       "       [b'4.7', b'3.2', b'1.3', b'0.2', b'Iris-setosa'],\n",
       "       [b'4.6', b'3.1', b'1.5', b'0.2', b'Iris-setosa'],\n",
       "       [b'5.0', b'3.6', b'1.4', b'0.2', b'Iris-setosa'],\n",
       "       [b'5.4', b'3.9', b'1.7', b'0.4', b'Iris-setosa'],\n",
       "       [b'4.6', b'3.4', b'1.4', b'0.3', b'Iris-setosa'],\n",
       "       [b'5.0', b'3.4', b'1.5', b'0.2', b'Iris-setosa'],\n",
       "       [b'4.4', b'2.9', b'1.4', b'0.2', b'Iris-setosa'],\n",
       "       [b'4.9', b'3.1', b'1.5', b'0.1', b'Iris-setosa'],\n",
       "       [b'5.4', b'3.7', b'1.5', b'0.2', b'Iris-setosa'],\n",
       "       [b'4.8', b'3.4', b'1.6', b'0.2', b'Iris-setosa'],\n",
       "       [b'4.8', b'3.0', b'1.4', b'0.1', b'Iris-setosa'],\n",
       "       [b'4.3', b'3.0', b'1.1', b'0.1', b'Iris-setosa'],\n",
       "       [b'5.8', b'4.0', b'1.2', b'0.2', b'Iris-setosa'],\n",
       "       [b'5.7', b'4.4', b'1.5', b'0.4', b'Iris-setosa'],\n",
       "       [b'5.4', b'3.9', b'1.3', b'0.4', b'Iris-setosa'],\n",
       "       [b'5.1', b'3.5', b'1.4', b'0.3', b'Iris-setosa'],\n",
       "       [b'5.7', b'3.8', b'1.7', b'0.3', b'Iris-setosa'],\n",
       "       [b'5.1', b'3.8', b'1.5', b'0.3', b'Iris-setosa'],\n",
       "       [b'5.4', b'3.4', b'1.7', b'0.2', b'Iris-setosa'],\n",
       "       [b'5.1', b'3.7', b'1.5', b'0.4', b'Iris-setosa'],\n",
       "       [b'4.6', b'3.6', b'1.0', b'0.2', b'Iris-setosa'],\n",
       "       [b'5.1', b'3.3', b'1.7', b'0.5', b'Iris-setosa'],\n",
       "       [b'4.8', b'3.4', b'1.9', b'0.2', b'Iris-setosa'],\n",
       "       [b'5.0', b'3.0', b'1.6', b'0.2', b'Iris-setosa'],\n",
       "       [b'5.0', b'3.4', b'1.6', b'0.4', b'Iris-setosa'],\n",
       "       [b'5.2', b'3.5', b'1.5', b'0.2', b'Iris-setosa'],\n",
       "       [b'5.2', b'3.4', b'1.4', b'0.2', b'Iris-setosa'],\n",
       "       [b'4.7', b'3.2', b'1.6', b'0.2', b'Iris-setosa'],\n",
       "       [b'4.8', b'3.1', b'1.6', b'0.2', b'Iris-setosa'],\n",
       "       [b'5.4', b'3.4', b'1.5', b'0.4', b'Iris-setosa'],\n",
       "       [b'5.2', b'4.1', b'1.5', b'0.1', b'Iris-setosa'],\n",
       "       [b'5.5', b'4.2', b'1.4', b'0.2', b'Iris-setosa'],\n",
       "       [b'4.9', b'3.1', b'1.5', b'0.1', b'Iris-setosa'],\n",
       "       [b'5.0', b'3.2', b'1.2', b'0.2', b'Iris-setosa'],\n",
       "       [b'5.5', b'3.5', b'1.3', b'0.2', b'Iris-setosa'],\n",
       "       [b'4.9', b'3.1', b'1.5', b'0.1', b'Iris-setosa'],\n",
       "       [b'4.4', b'3.0', b'1.3', b'0.2', b'Iris-setosa'],\n",
       "       [b'5.1', b'3.4', b'1.5', b'0.2', b'Iris-setosa'],\n",
       "       [b'5.0', b'3.5', b'1.3', b'0.3', b'Iris-setosa'],\n",
       "       [b'4.5', b'2.3', b'1.3', b'0.3', b'Iris-setosa'],\n",
       "       [b'4.4', b'3.2', b'1.3', b'0.2', b'Iris-setosa'],\n",
       "       [b'5.0', b'3.5', b'1.6', b'0.6', b'Iris-setosa'],\n",
       "       [b'5.1', b'3.8', b'1.9', b'0.4', b'Iris-setosa'],\n",
       "       [b'4.8', b'3.0', b'1.4', b'0.3', b'Iris-setosa'],\n",
       "       [b'5.1', b'3.8', b'1.6', b'0.2', b'Iris-setosa'],\n",
       "       [b'4.6', b'3.2', b'1.4', b'0.2', b'Iris-setosa'],\n",
       "       [b'5.3', b'3.7', b'1.5', b'0.2', b'Iris-setosa'],\n",
       "       [b'5.0', b'3.3', b'1.4', b'0.2', b'Iris-setosa'],\n",
       "       [b'7.0', b'3.2', b'4.7', b'1.4', b'Iris-versicolor'],\n",
       "       [b'6.4', b'3.2', b'4.5', b'1.5', b'Iris-versicolor'],\n",
       "       [b'6.9', b'3.1', b'4.9', b'1.5', b'Iris-versicolor'],\n",
       "       [b'5.5', b'2.3', b'4.0', b'1.3', b'Iris-versicolor'],\n",
       "       [b'6.5', b'2.8', b'4.6', b'1.5', b'Iris-versicolor'],\n",
       "       [b'5.7', b'2.8', b'4.5', b'1.3', b'Iris-versicolor'],\n",
       "       [b'6.3', b'3.3', b'4.7', b'1.6', b'Iris-versicolor'],\n",
       "       [b'4.9', b'2.4', b'3.3', b'1.0', b'Iris-versicolor'],\n",
       "       [b'6.6', b'2.9', b'4.6', b'1.3', b'Iris-versicolor'],\n",
       "       [b'5.2', b'2.7', b'3.9', b'1.4', b'Iris-versicolor'],\n",
       "       [b'5.0', b'2.0', b'3.5', b'1.0', b'Iris-versicolor'],\n",
       "       [b'5.9', b'3.0', b'4.2', b'1.5', b'Iris-versicolor'],\n",
       "       [b'6.0', b'2.2', b'4.0', b'1.0', b'Iris-versicolor'],\n",
       "       [b'6.1', b'2.9', b'4.7', b'1.4', b'Iris-versicolor'],\n",
       "       [b'5.6', b'2.9', b'3.6', b'1.3', b'Iris-versicolor'],\n",
       "       [b'6.7', b'3.1', b'4.4', b'1.4', b'Iris-versicolor'],\n",
       "       [b'5.6', b'3.0', b'4.5', b'1.5', b'Iris-versicolor'],\n",
       "       [b'5.8', b'2.7', b'4.1', b'1.0', b'Iris-versicolor'],\n",
       "       [b'6.2', b'2.2', b'4.5', b'1.5', b'Iris-versicolor'],\n",
       "       [b'5.6', b'2.5', b'3.9', b'1.1', b'Iris-versicolor'],\n",
       "       [b'5.9', b'3.2', b'4.8', b'1.8', b'Iris-versicolor'],\n",
       "       [b'6.1', b'2.8', b'4.0', b'1.3', b'Iris-versicolor'],\n",
       "       [b'6.3', b'2.5', b'4.9', b'1.5', b'Iris-versicolor'],\n",
       "       [b'6.1', b'2.8', b'4.7', b'1.2', b'Iris-versicolor'],\n",
       "       [b'6.4', b'2.9', b'4.3', b'1.3', b'Iris-versicolor'],\n",
       "       [b'6.6', b'3.0', b'4.4', b'1.4', b'Iris-versicolor'],\n",
       "       [b'6.8', b'2.8', b'4.8', b'1.4', b'Iris-versicolor'],\n",
       "       [b'6.7', b'3.0', b'5.0', b'1.7', b'Iris-versicolor'],\n",
       "       [b'6.0', b'2.9', b'4.5', b'1.5', b'Iris-versicolor'],\n",
       "       [b'5.7', b'2.6', b'3.5', b'1.0', b'Iris-versicolor'],\n",
       "       [b'5.5', b'2.4', b'3.8', b'1.1', b'Iris-versicolor'],\n",
       "       [b'5.5', b'2.4', b'3.7', b'1.0', b'Iris-versicolor'],\n",
       "       [b'5.8', b'2.7', b'3.9', b'1.2', b'Iris-versicolor'],\n",
       "       [b'6.0', b'2.7', b'5.1', b'1.6', b'Iris-versicolor'],\n",
       "       [b'5.4', b'3.0', b'4.5', b'1.5', b'Iris-versicolor'],\n",
       "       [b'6.0', b'3.4', b'4.5', b'1.6', b'Iris-versicolor'],\n",
       "       [b'6.7', b'3.1', b'4.7', b'1.5', b'Iris-versicolor'],\n",
       "       [b'6.3', b'2.3', b'4.4', b'1.3', b'Iris-versicolor'],\n",
       "       [b'5.6', b'3.0', b'4.1', b'1.3', b'Iris-versicolor'],\n",
       "       [b'5.5', b'2.5', b'4.0', b'1.3', b'Iris-versicolor'],\n",
       "       [b'5.5', b'2.6', b'4.4', b'1.2', b'Iris-versicolor'],\n",
       "       [b'6.1', b'3.0', b'4.6', b'1.4', b'Iris-versicolor'],\n",
       "       [b'5.8', b'2.6', b'4.0', b'1.2', b'Iris-versicolor'],\n",
       "       [b'5.0', b'2.3', b'3.3', b'1.0', b'Iris-versicolor'],\n",
       "       [b'5.6', b'2.7', b'4.2', b'1.3', b'Iris-versicolor'],\n",
       "       [b'5.7', b'3.0', b'4.2', b'1.2', b'Iris-versicolor'],\n",
       "       [b'5.7', b'2.9', b'4.2', b'1.3', b'Iris-versicolor'],\n",
       "       [b'6.2', b'2.9', b'4.3', b'1.3', b'Iris-versicolor'],\n",
       "       [b'5.1', b'2.5', b'3.0', b'1.1', b'Iris-versicolor'],\n",
       "       [b'5.7', b'2.8', b'4.1', b'1.3', b'Iris-versicolor'],\n",
       "       [b'6.3', b'3.3', b'6.0', b'2.5', b'Iris-virginica'],\n",
       "       [b'5.8', b'2.7', b'5.1', b'1.9', b'Iris-virginica'],\n",
       "       [b'7.1', b'3.0', b'5.9', b'2.1', b'Iris-virginica'],\n",
       "       [b'6.3', b'2.9', b'5.6', b'1.8', b'Iris-virginica'],\n",
       "       [b'6.5', b'3.0', b'5.8', b'2.2', b'Iris-virginica'],\n",
       "       [b'7.6', b'3.0', b'6.6', b'2.1', b'Iris-virginica'],\n",
       "       [b'4.9', b'2.5', b'4.5', b'1.7', b'Iris-virginica'],\n",
       "       [b'7.3', b'2.9', b'6.3', b'1.8', b'Iris-virginica'],\n",
       "       [b'6.7', b'2.5', b'5.8', b'1.8', b'Iris-virginica'],\n",
       "       [b'7.2', b'3.6', b'6.1', b'2.5', b'Iris-virginica'],\n",
       "       [b'6.5', b'3.2', b'5.1', b'2.0', b'Iris-virginica'],\n",
       "       [b'6.4', b'2.7', b'5.3', b'1.9', b'Iris-virginica'],\n",
       "       [b'6.8', b'3.0', b'5.5', b'2.1', b'Iris-virginica'],\n",
       "       [b'5.7', b'2.5', b'5.0', b'2.0', b'Iris-virginica'],\n",
       "       [b'5.8', b'2.8', b'5.1', b'2.4', b'Iris-virginica'],\n",
       "       [b'6.4', b'3.2', b'5.3', b'2.3', b'Iris-virginica'],\n",
       "       [b'6.5', b'3.0', b'5.5', b'1.8', b'Iris-virginica'],\n",
       "       [b'7.7', b'3.8', b'6.7', b'2.2', b'Iris-virginica'],\n",
       "       [b'7.7', b'2.6', b'6.9', b'2.3', b'Iris-virginica'],\n",
       "       [b'6.0', b'2.2', b'5.0', b'1.5', b'Iris-virginica'],\n",
       "       [b'6.9', b'3.2', b'5.7', b'2.3', b'Iris-virginica'],\n",
       "       [b'5.6', b'2.8', b'4.9', b'2.0', b'Iris-virginica'],\n",
       "       [b'7.7', b'2.8', b'6.7', b'2.0', b'Iris-virginica'],\n",
       "       [b'6.3', b'2.7', b'4.9', b'1.8', b'Iris-virginica'],\n",
       "       [b'6.7', b'3.3', b'5.7', b'2.1', b'Iris-virginica'],\n",
       "       [b'7.2', b'3.2', b'6.0', b'1.8', b'Iris-virginica'],\n",
       "       [b'6.2', b'2.8', b'4.8', b'1.8', b'Iris-virginica'],\n",
       "       [b'6.1', b'3.0', b'4.9', b'1.8', b'Iris-virginica'],\n",
       "       [b'6.4', b'2.8', b'5.6', b'2.1', b'Iris-virginica'],\n",
       "       [b'7.2', b'3.0', b'5.8', b'1.6', b'Iris-virginica'],\n",
       "       [b'7.4', b'2.8', b'6.1', b'1.9', b'Iris-virginica'],\n",
       "       [b'7.9', b'3.8', b'6.4', b'2.0', b'Iris-virginica'],\n",
       "       [b'6.4', b'2.8', b'5.6', b'2.2', b'Iris-virginica'],\n",
       "       [b'6.3', b'2.8', b'5.1', b'1.5', b'Iris-virginica'],\n",
       "       [b'6.1', b'2.6', b'5.6', b'1.4', b'Iris-virginica'],\n",
       "       [b'7.7', b'3.0', b'6.1', b'2.3', b'Iris-virginica'],\n",
       "       [b'6.3', b'3.4', b'5.6', b'2.4', b'Iris-virginica'],\n",
       "       [b'6.4', b'3.1', b'5.5', b'1.8', b'Iris-virginica'],\n",
       "       [b'6.0', b'3.0', b'4.8', b'1.8', b'Iris-virginica'],\n",
       "       [b'6.9', b'3.1', b'5.4', b'2.1', b'Iris-virginica'],\n",
       "       [b'6.7', b'3.1', b'5.6', b'2.4', b'Iris-virginica'],\n",
       "       [b'6.9', b'3.1', b'5.1', b'2.3', b'Iris-virginica'],\n",
       "       [b'5.8', b'2.7', b'5.1', b'1.9', b'Iris-virginica'],\n",
       "       [b'6.8', b'3.2', b'5.9', b'2.3', b'Iris-virginica'],\n",
       "       [b'6.7', b'3.3', b'5.7', b'2.5', b'Iris-virginica'],\n",
       "       [b'6.7', b'3.0', b'5.2', b'2.3', b'Iris-virginica'],\n",
       "       [b'6.3', b'2.5', b'5.0', b'1.9', b'Iris-virginica'],\n",
       "       [b'6.5', b'3.0', b'5.2', b'2.0', b'Iris-virginica'],\n",
       "       [b'6.2', b'3.4', b'5.4', b'2.3', b'Iris-virginica'],\n",
       "       [b'5.9', b'3.0', b'5.1', b'1.8', b'Iris-virginica']], dtype=object)"
      ]
     },
     "execution_count": 20,
     "metadata": {},
     "output_type": "execute_result"
    }
   ],
   "source": [
    "#method 1\n",
    "a = np.loadtxt(r\"C:\\Users\\nandkumar\\Downloads\\iris.data\", delimiter=',', dtype = 'object')\n",
    "print(a)\n",
    "#method 2\n",
    "url = 'https://archive.ics.uci.edu/ml/machine-learning-databases/iris/iris.data'\n",
    "b = np.genfromtxt(url, delimiter = ',', dtype = 'object')\n",
    "b"
   ]
  },
  {
   "cell_type": "code",
   "execution_count": 33,
   "metadata": {},
   "outputs": [
    {
     "name": "stdout",
     "output_type": "stream",
     "text": [
      "(150,)\n"
     ]
    },
    {
     "name": "stderr",
     "output_type": "stream",
     "text": [
      "C:\\Users\\nandkumar\\New folder\\lib\\site-packages\\ipykernel_launcher.py:2: VisibleDeprecationWarning: Reading unicode strings without specifying the encoding argument is deprecated. Set the encoding, use None for the system default.\n",
      "  \n"
     ]
    },
    {
     "data": {
      "text/plain": [
       "array([(5.1, 3.5, 1.4, 0.2, b'Iris-setosa'),\n",
       "       (4.9, 3. , 1.4, 0.2, b'Iris-setosa'),\n",
       "       (4.7, 3.2, 1.3, 0.2, b'Iris-setosa'),\n",
       "       (4.6, 3.1, 1.5, 0.2, b'Iris-setosa'),\n",
       "       (5. , 3.6, 1.4, 0.2, b'Iris-setosa')],\n",
       "      dtype=[('f0', '<f8'), ('f1', '<f8'), ('f2', '<f8'), ('f3', '<f8'), ('f4', 'S15')])"
      ]
     },
     "execution_count": 33,
     "metadata": {},
     "output_type": "execute_result"
    }
   ],
   "source": [
    "url = 'https://archive.ics.uci.edu/ml/machine-learning-databases/iris/iris.data'\n",
    "a = np.genfromtxt(url, delimiter=',',dtype=None)\n",
    "print(a.shape)\n",
    "a[:5]"
   ]
  },
  {
   "cell_type": "code",
   "execution_count": 43,
   "metadata": {},
   "outputs": [
    {
     "data": {
      "text/plain": [
       "array([[5.1, 3.5, 1.4, 0.2],\n",
       "       [4.9, 3. , 1.4, 0.2],\n",
       "       [4.7, 3.2, 1.3, 0.2],\n",
       "       [4.6, 3.1, 1.5, 0.2]])"
      ]
     },
     "execution_count": 43,
     "metadata": {},
     "output_type": "execute_result"
    }
   ],
   "source": [
    "#method 1\n",
    "url = 'https://archive.ics.uci.edu/ml/machine-learning-databases/iris/iris.data'\n",
    "iris2d = np.array(np.genfromtxt(url, delimiter=',', dtype=None, usecols=[0,1,2,3]))\n",
    "#method 2\n",
    "iris_2d = np.array([row.tolist()[:4] for row in iris_1d])\n",
    "iris_2d[:4]"
   ]
  },
  {
   "cell_type": "code",
   "execution_count": 46,
   "metadata": {},
   "outputs": [
    {
     "name": "stdout",
     "output_type": "stream",
     "text": [
      "5.843333333333334 5.8 0.8253012917851409\n"
     ]
    }
   ],
   "source": [
    "url = 'https://archive.ics.uci.edu/ml/machine-learning-databases/iris/iris.data'\n",
    "iris = np.genfromtxt(url, delimiter=',', dtype=None, usecols=[0])\n",
    "mean, median, sd = np.mean(iris), np.median(iris), np.std(iris)\n",
    "print(mean, median, sd)"
   ]
  },
  {
   "cell_type": "code",
   "execution_count": 5,
   "metadata": {},
   "outputs": [
    {
     "name": "stdout",
     "output_type": "stream",
     "text": [
      "[0.22222222 0.16666667 0.11111111 0.08333333 0.19444444 0.30555556\n",
      " 0.08333333 0.19444444 0.02777778 0.16666667 0.30555556 0.13888889\n",
      " 0.13888889 0.         0.41666667 0.38888889 0.30555556 0.22222222\n",
      " 0.38888889 0.22222222 0.30555556 0.22222222 0.08333333 0.22222222\n",
      " 0.13888889 0.19444444 0.19444444 0.25       0.25       0.11111111\n",
      " 0.13888889 0.30555556 0.25       0.33333333 0.16666667 0.19444444\n",
      " 0.33333333 0.16666667 0.02777778 0.22222222 0.19444444 0.05555556\n",
      " 0.02777778 0.19444444 0.22222222 0.13888889 0.22222222 0.08333333\n",
      " 0.27777778 0.19444444 0.75       0.58333333 0.72222222 0.33333333\n",
      " 0.61111111 0.38888889 0.55555556 0.16666667 0.63888889 0.25\n",
      " 0.19444444 0.44444444 0.47222222 0.5        0.36111111 0.66666667\n",
      " 0.36111111 0.41666667 0.52777778 0.36111111 0.44444444 0.5\n",
      " 0.55555556 0.5        0.58333333 0.63888889 0.69444444 0.66666667\n",
      " 0.47222222 0.38888889 0.33333333 0.33333333 0.41666667 0.47222222\n",
      " 0.30555556 0.47222222 0.66666667 0.55555556 0.36111111 0.33333333\n",
      " 0.33333333 0.5        0.41666667 0.19444444 0.36111111 0.38888889\n",
      " 0.38888889 0.52777778 0.22222222 0.38888889 0.55555556 0.41666667\n",
      " 0.77777778 0.55555556 0.61111111 0.91666667 0.16666667 0.83333333\n",
      " 0.66666667 0.80555556 0.61111111 0.58333333 0.69444444 0.38888889\n",
      " 0.41666667 0.58333333 0.61111111 0.94444444 0.94444444 0.47222222\n",
      " 0.72222222 0.36111111 0.94444444 0.55555556 0.66666667 0.80555556\n",
      " 0.52777778 0.5        0.58333333 0.80555556 0.86111111 1.\n",
      " 0.58333333 0.55555556 0.5        0.94444444 0.55555556 0.58333333\n",
      " 0.47222222 0.72222222 0.66666667 0.72222222 0.41666667 0.69444444\n",
      " 0.66666667 0.66666667 0.55555556 0.61111111 0.52777778 0.44444444]\n",
      "[0.22222222 0.16666667 0.11111111 0.08333333 0.19444444 0.30555556\n",
      " 0.08333333 0.19444444 0.02777778 0.16666667 0.30555556 0.13888889\n",
      " 0.13888889 0.         0.41666667 0.38888889 0.30555556 0.22222222\n",
      " 0.38888889 0.22222222 0.30555556 0.22222222 0.08333333 0.22222222\n",
      " 0.13888889 0.19444444 0.19444444 0.25       0.25       0.11111111\n",
      " 0.13888889 0.30555556 0.25       0.33333333 0.16666667 0.19444444\n",
      " 0.33333333 0.16666667 0.02777778 0.22222222 0.19444444 0.05555556\n",
      " 0.02777778 0.19444444 0.22222222 0.13888889 0.22222222 0.08333333\n",
      " 0.27777778 0.19444444 0.75       0.58333333 0.72222222 0.33333333\n",
      " 0.61111111 0.38888889 0.55555556 0.16666667 0.63888889 0.25\n",
      " 0.19444444 0.44444444 0.47222222 0.5        0.36111111 0.66666667\n",
      " 0.36111111 0.41666667 0.52777778 0.36111111 0.44444444 0.5\n",
      " 0.55555556 0.5        0.58333333 0.63888889 0.69444444 0.66666667\n",
      " 0.47222222 0.38888889 0.33333333 0.33333333 0.41666667 0.47222222\n",
      " 0.30555556 0.47222222 0.66666667 0.55555556 0.36111111 0.33333333\n",
      " 0.33333333 0.5        0.41666667 0.19444444 0.36111111 0.38888889\n",
      " 0.38888889 0.52777778 0.22222222 0.38888889 0.55555556 0.41666667\n",
      " 0.77777778 0.55555556 0.61111111 0.91666667 0.16666667 0.83333333\n",
      " 0.66666667 0.80555556 0.61111111 0.58333333 0.69444444 0.38888889\n",
      " 0.41666667 0.58333333 0.61111111 0.94444444 0.94444444 0.47222222\n",
      " 0.72222222 0.36111111 0.94444444 0.55555556 0.66666667 0.80555556\n",
      " 0.52777778 0.5        0.58333333 0.80555556 0.86111111 1.\n",
      " 0.58333333 0.55555556 0.5        0.94444444 0.55555556 0.58333333\n",
      " 0.47222222 0.72222222 0.66666667 0.72222222 0.41666667 0.69444444\n",
      " 0.66666667 0.66666667 0.55555556 0.61111111 0.52777778 0.44444444]\n"
     ]
    }
   ],
   "source": [
    "#method  1\n",
    "url = 'https://archive.ics.uci.edu/ml/machine-learning-databases/iris/iris.data'\n",
    "iris = np.genfromtxt(url, delimiter=',', dtype='float', usecols=[0])\n",
    "irismax, irismin = np.max(iris), np.min(iris)\n",
    "iris_norm = (iris - irismin) / (irismax - irismin)\n",
    "print(iris_norm)\n",
    "#method 2\n",
    "iris_norm2 = (iris - irismin) / iris.ptp()\n",
    "print(iris_norm2)"
   ]
  },
  {
   "cell_type": "code",
   "execution_count": 56,
   "metadata": {},
   "outputs": [
    {
     "name": "stdout",
     "output_type": "stream",
     "text": [
      "[0.002 0.002 0.001 0.001 0.002 0.003 0.001 0.002 0.001 0.002 0.003 0.002\n",
      " 0.002 0.001 0.004 0.004 0.003 0.002 0.004 0.002 0.003 0.002 0.001 0.002\n",
      " 0.002 0.002 0.002 0.002 0.002 0.001 0.002 0.003 0.002 0.003 0.002 0.002\n",
      " 0.003 0.002 0.001 0.002 0.002 0.001 0.001 0.002 0.002 0.002 0.002 0.001\n",
      " 0.003 0.002 0.015 0.008 0.013 0.003 0.009 0.004 0.007 0.002 0.01  0.002\n",
      " 0.002 0.005 0.005 0.006 0.004 0.011 0.004 0.004 0.007 0.004 0.005 0.006\n",
      " 0.007 0.006 0.008 0.01  0.012 0.011 0.005 0.004 0.003 0.003 0.004 0.005\n",
      " 0.003 0.005 0.011 0.007 0.004 0.003 0.003 0.006 0.004 0.002 0.004 0.004\n",
      " 0.004 0.007 0.002 0.004 0.007 0.004 0.016 0.007 0.009 0.027 0.002 0.02\n",
      " 0.011 0.018 0.009 0.008 0.012 0.004 0.004 0.008 0.009 0.03  0.03  0.005\n",
      " 0.013 0.004 0.03  0.007 0.011 0.018 0.007 0.006 0.008 0.018 0.022 0.037\n",
      " 0.008 0.007 0.006 0.03  0.007 0.008 0.005 0.013 0.011 0.013 0.004 0.012\n",
      " 0.011 0.011 0.007 0.009 0.007 0.005]\n"
     ]
    }
   ],
   "source": [
    "a = np.exp(iris)/sum(np.exp(iris))\n",
    "print(a.round(decimals = 3))"
   ]
  },
  {
   "cell_type": "code",
   "execution_count": 6,
   "metadata": {},
   "outputs": [
    {
     "name": "stdout",
     "output_type": "stream",
     "text": [
      "[4.6   7.255]\n"
     ]
    }
   ],
   "source": [
    "print(np.percentile(iris, q=[5,95]))"
   ]
  },
  {
   "cell_type": "code",
   "execution_count": 18,
   "metadata": {},
   "outputs": [
    {
     "name": "stdout",
     "output_type": "stream",
     "text": [
      "[[b'5.1' b'3.5' b'1.4' b'0.2' b'Iris-setosa']\n",
      " [b'4.9' b'3.0' b'1.4' b'0.2' b'Iris-setosa']\n",
      " [b'4.7' b'3.2' b'1.3' b'0.2' b'Iris-setosa']\n",
      " [b'4.6' b'3.1' b'1.5' b'0.2' b'Iris-setosa']\n",
      " [b'5.0' b'3.6' b'1.4' b'0.2' b'Iris-setosa']\n",
      " [b'5.4' b'3.9' b'1.7' b'0.4' b'Iris-setosa']\n",
      " [b'4.6' b'3.4' b'1.4' b'0.3' b'Iris-setosa']\n",
      " [b'5.0' b'3.4' b'1.5' b'0.2' b'Iris-setosa']\n",
      " [b'4.4' b'2.9' b'1.4' b'0.2' b'Iris-setosa']\n",
      " [b'4.9' b'3.1' b'1.5' b'0.1' b'Iris-setosa']\n",
      " [b'5.4' b'3.7' b'1.5' nan b'Iris-setosa']\n",
      " [b'4.8' b'3.4' b'1.6' b'0.2' b'Iris-setosa']\n",
      " [b'4.8' b'3.0' b'1.4' b'0.1' b'Iris-setosa']\n",
      " [b'4.3' b'3.0' b'1.1' b'0.1' b'Iris-setosa']\n",
      " [b'5.8' b'4.0' b'1.2' b'0.2' b'Iris-setosa']\n",
      " [b'5.7' b'4.4' nan b'0.4' b'Iris-setosa']\n",
      " [b'5.4' b'3.9' b'1.3' b'0.4' b'Iris-setosa']\n",
      " [b'5.1' b'3.5' b'1.4' nan b'Iris-setosa']\n",
      " [b'5.7' b'3.8' b'1.7' nan b'Iris-setosa']\n",
      " [b'5.1' b'3.8' b'1.5' b'0.3' b'Iris-setosa']\n",
      " [b'5.4' b'3.4' b'1.7' b'0.2' b'Iris-setosa']\n",
      " [b'5.1' b'3.7' b'1.5' b'0.4' b'Iris-setosa']\n",
      " [b'4.6' b'3.6' b'1.0' b'0.2' b'Iris-setosa']\n",
      " [b'5.1' b'3.3' b'1.7' b'0.5' b'Iris-setosa']\n",
      " [b'4.8' b'3.4' b'1.9' b'0.2' b'Iris-setosa']\n",
      " [b'5.0' b'3.0' b'1.6' b'0.2' b'Iris-setosa']\n",
      " [b'5.0' b'3.4' b'1.6' b'0.4' b'Iris-setosa']\n",
      " [b'5.2' b'3.5' b'1.5' b'0.2' b'Iris-setosa']\n",
      " [b'5.2' b'3.4' b'1.4' b'0.2' nan]\n",
      " [b'4.7' b'3.2' b'1.6' b'0.2' b'Iris-setosa']\n",
      " [b'4.8' b'3.1' b'1.6' b'0.2' b'Iris-setosa']\n",
      " [b'5.4' b'3.4' b'1.5' b'0.4' b'Iris-setosa']\n",
      " [b'5.2' b'4.1' b'1.5' b'0.1' b'Iris-setosa']\n",
      " [b'5.5' b'4.2' b'1.4' b'0.2' b'Iris-setosa']\n",
      " [b'4.9' b'3.1' b'1.5' b'0.1' b'Iris-setosa']\n",
      " [b'5.0' b'3.2' b'1.2' b'0.2' b'Iris-setosa']\n",
      " [b'5.5' b'3.5' b'1.3' b'0.2' b'Iris-setosa']\n",
      " [b'4.9' b'3.1' b'1.5' b'0.1' b'Iris-setosa']\n",
      " [b'4.4' b'3.0' b'1.3' b'0.2' b'Iris-setosa']\n",
      " [b'5.1' b'3.4' b'1.5' b'0.2' b'Iris-setosa']\n",
      " [b'5.0' b'3.5' b'1.3' b'0.3' b'Iris-setosa']\n",
      " [b'4.5' b'2.3' b'1.3' b'0.3' b'Iris-setosa']\n",
      " [b'4.4' b'3.2' b'1.3' b'0.2' b'Iris-setosa']\n",
      " [b'5.0' b'3.5' b'1.6' b'0.6' b'Iris-setosa']\n",
      " [b'5.1' b'3.8' b'1.9' b'0.4' b'Iris-setosa']\n",
      " [nan b'3.0' b'1.4' b'0.3' b'Iris-setosa']\n",
      " [b'5.1' b'3.8' b'1.6' b'0.2' b'Iris-setosa']\n",
      " [b'4.6' b'3.2' b'1.4' b'0.2' b'Iris-setosa']\n",
      " [b'5.3' b'3.7' b'1.5' b'0.2' b'Iris-setosa']\n",
      " [b'5.0' b'3.3' b'1.4' b'0.2' b'Iris-setosa']\n",
      " [b'7.0' b'3.2' b'4.7' b'1.4' b'Iris-versicolor']\n",
      " [b'6.4' b'3.2' b'4.5' b'1.5' b'Iris-versicolor']\n",
      " [b'6.9' b'3.1' b'4.9' b'1.5' b'Iris-versicolor']\n",
      " [b'5.5' b'2.3' b'4.0' b'1.3' b'Iris-versicolor']\n",
      " [b'6.5' b'2.8' b'4.6' b'1.5' b'Iris-versicolor']\n",
      " [b'5.7' b'2.8' b'4.5' b'1.3' b'Iris-versicolor']\n",
      " [nan b'3.3' b'4.7' b'1.6' b'Iris-versicolor']\n",
      " [b'4.9' b'2.4' b'3.3' b'1.0' b'Iris-versicolor']\n",
      " [b'6.6' b'2.9' b'4.6' b'1.3' b'Iris-versicolor']\n",
      " [b'5.2' b'2.7' b'3.9' b'1.4' b'Iris-versicolor']\n",
      " [b'5.0' b'2.0' b'3.5' b'1.0' b'Iris-versicolor']\n",
      " [b'5.9' b'3.0' b'4.2' b'1.5' b'Iris-versicolor']\n",
      " [b'6.0' b'2.2' b'4.0' b'1.0' b'Iris-versicolor']\n",
      " [b'6.1' nan b'4.7' b'1.4' b'Iris-versicolor']\n",
      " [b'5.6' b'2.9' b'3.6' b'1.3' b'Iris-versicolor']\n",
      " [b'6.7' b'3.1' b'4.4' b'1.4' b'Iris-versicolor']\n",
      " [b'5.6' b'3.0' b'4.5' b'1.5' b'Iris-versicolor']\n",
      " [b'5.8' b'2.7' b'4.1' b'1.0' b'Iris-versicolor']\n",
      " [b'6.2' b'2.2' b'4.5' b'1.5' b'Iris-versicolor']\n",
      " [b'5.6' b'2.5' b'3.9' b'1.1' b'Iris-versicolor']\n",
      " [b'5.9' b'3.2' b'4.8' b'1.8' nan]\n",
      " [b'6.1' b'2.8' b'4.0' b'1.3' b'Iris-versicolor']\n",
      " [b'6.3' b'2.5' b'4.9' b'1.5' b'Iris-versicolor']\n",
      " [b'6.1' b'2.8' b'4.7' b'1.2' b'Iris-versicolor']\n",
      " [b'6.4' b'2.9' b'4.3' b'1.3' b'Iris-versicolor']\n",
      " [b'6.6' b'3.0' b'4.4' b'1.4' b'Iris-versicolor']\n",
      " [b'6.8' b'2.8' b'4.8' b'1.4' b'Iris-versicolor']\n",
      " [b'6.7' nan b'5.0' b'1.7' b'Iris-versicolor']\n",
      " [b'6.0' b'2.9' b'4.5' b'1.5' b'Iris-versicolor']\n",
      " [b'5.7' b'2.6' b'3.5' b'1.0' b'Iris-versicolor']\n",
      " [b'5.5' b'2.4' b'3.8' b'1.1' b'Iris-versicolor']\n",
      " [b'5.5' b'2.4' b'3.7' b'1.0' b'Iris-versicolor']\n",
      " [b'5.8' b'2.7' b'3.9' b'1.2' b'Iris-versicolor']\n",
      " [b'6.0' b'2.7' b'5.1' nan b'Iris-versicolor']\n",
      " [b'5.4' b'3.0' b'4.5' b'1.5' b'Iris-versicolor']\n",
      " [b'6.0' b'3.4' b'4.5' b'1.6' b'Iris-versicolor']\n",
      " [b'6.7' b'3.1' b'4.7' b'1.5' b'Iris-versicolor']\n",
      " [b'6.3' b'2.3' b'4.4' b'1.3' b'Iris-versicolor']\n",
      " [b'5.6' b'3.0' b'4.1' b'1.3' b'Iris-versicolor']\n",
      " [b'5.5' b'2.5' b'4.0' b'1.3' b'Iris-versicolor']\n",
      " [b'5.5' b'2.6' b'4.4' b'1.2' b'Iris-versicolor']\n",
      " [b'6.1' b'3.0' b'4.6' b'1.4' b'Iris-versicolor']\n",
      " [b'5.8' b'2.6' b'4.0' b'1.2' b'Iris-versicolor']\n",
      " [b'5.0' b'2.3' b'3.3' b'1.0' b'Iris-versicolor']\n",
      " [b'5.6' b'2.7' b'4.2' b'1.3' b'Iris-versicolor']\n",
      " [b'5.7' b'3.0' b'4.2' b'1.2' b'Iris-versicolor']\n",
      " [b'5.7' b'2.9' b'4.2' b'1.3' b'Iris-versicolor']\n",
      " [b'6.2' b'2.9' b'4.3' b'1.3' b'Iris-versicolor']\n",
      " [b'5.1' b'2.5' b'3.0' b'1.1' b'Iris-versicolor']\n",
      " [b'5.7' b'2.8' b'4.1' b'1.3' b'Iris-versicolor']\n",
      " [b'6.3' b'3.3' b'6.0' b'2.5' b'Iris-virginica']\n",
      " [b'5.8' b'2.7' nan b'1.9' b'Iris-virginica']\n",
      " [b'7.1' b'3.0' b'5.9' b'2.1' b'Iris-virginica']\n",
      " [b'6.3' b'2.9' b'5.6' b'1.8' b'Iris-virginica']\n",
      " [b'6.5' b'3.0' b'5.8' nan b'Iris-virginica']\n",
      " [b'7.6' nan b'6.6' b'2.1' b'Iris-virginica']\n",
      " [b'4.9' b'2.5' b'4.5' b'1.7' b'Iris-virginica']\n",
      " [b'7.3' b'2.9' b'6.3' b'1.8' b'Iris-virginica']\n",
      " [b'6.7' b'2.5' b'5.8' b'1.8' b'Iris-virginica']\n",
      " [b'7.2' b'3.6' b'6.1' b'2.5' b'Iris-virginica']\n",
      " [b'6.5' b'3.2' b'5.1' b'2.0' b'Iris-virginica']\n",
      " [b'6.4' b'2.7' b'5.3' b'1.9' b'Iris-virginica']\n",
      " [b'6.8' b'3.0' b'5.5' b'2.1' b'Iris-virginica']\n",
      " [b'5.7' b'2.5' b'5.0' b'2.0' b'Iris-virginica']\n",
      " [b'5.8' b'2.8' nan b'2.4' b'Iris-virginica']\n",
      " [nan b'3.2' b'5.3' b'2.3' b'Iris-virginica']\n",
      " [b'6.5' b'3.0' b'5.5' b'1.8' b'Iris-virginica']\n",
      " [b'7.7' b'3.8' b'6.7' b'2.2' b'Iris-virginica']\n",
      " [b'7.7' b'2.6' b'6.9' b'2.3' b'Iris-virginica']\n",
      " [b'6.0' b'2.2' b'5.0' b'1.5' b'Iris-virginica']\n",
      " [b'6.9' b'3.2' b'5.7' b'2.3' b'Iris-virginica']\n",
      " [b'5.6' b'2.8' b'4.9' b'2.0' b'Iris-virginica']\n",
      " [b'7.7' b'2.8' b'6.7' b'2.0' b'Iris-virginica']\n",
      " [b'6.3' b'2.7' b'4.9' b'1.8' b'Iris-virginica']\n",
      " [b'6.7' b'3.3' b'5.7' b'2.1' b'Iris-virginica']\n",
      " [b'7.2' b'3.2' b'6.0' b'1.8' b'Iris-virginica']\n",
      " [b'6.2' b'2.8' b'4.8' b'1.8' b'Iris-virginica']\n",
      " [b'6.1' b'3.0' b'4.9' b'1.8' b'Iris-virginica']\n",
      " [b'6.4' b'2.8' b'5.6' b'2.1' b'Iris-virginica']\n",
      " [b'7.2' b'3.0' b'5.8' nan b'Iris-virginica']\n",
      " [b'7.4' b'2.8' b'6.1' b'1.9' b'Iris-virginica']\n",
      " [b'7.9' b'3.8' nan b'2.0' b'Iris-virginica']\n",
      " [b'6.4' b'2.8' b'5.6' b'2.2' b'Iris-virginica']\n",
      " [b'6.3' b'2.8' b'5.1' nan b'Iris-virginica']\n",
      " [b'6.1' b'2.6' b'5.6' b'1.4' b'Iris-virginica']\n",
      " [b'7.7' b'3.0' b'6.1' b'2.3' b'Iris-virginica']\n",
      " [b'6.3' b'3.4' b'5.6' b'2.4' b'Iris-virginica']\n",
      " [b'6.4' b'3.1' b'5.5' b'1.8' b'Iris-virginica']\n",
      " [b'6.0' b'3.0' b'4.8' b'1.8' b'Iris-virginica']\n",
      " [b'6.9' b'3.1' b'5.4' b'2.1' b'Iris-virginica']\n",
      " [b'6.7' b'3.1' b'5.6' b'2.4' b'Iris-virginica']\n",
      " [b'6.9' b'3.1' b'5.1' b'2.3' b'Iris-virginica']\n",
      " [b'5.8' b'2.7' b'5.1' b'1.9' b'Iris-virginica']\n",
      " [b'6.8' b'3.2' b'5.9' b'2.3' b'Iris-virginica']\n",
      " [b'6.7' b'3.3' b'5.7' b'2.5' b'Iris-virginica']\n",
      " [b'6.7' b'3.0' b'5.2' b'2.3' b'Iris-virginica']\n",
      " [b'6.3' b'2.5' b'5.0' b'1.9' b'Iris-virginica']\n",
      " [b'6.5' b'3.0' b'5.2' b'2.0' nan]\n",
      " [b'6.2' b'3.4' b'5.4' b'2.3' b'Iris-virginica']\n",
      " [b'5.9' b'3.0' b'5.1' b'1.8' b'Iris-virginica']]\n"
     ]
    }
   ],
   "source": [
    "url = 'https://archive.ics.uci.edu/ml/machine-learning-databases/iris/iris.data'\n",
    "iris_2d = np.genfromtxt(url, delimiter=',', dtype='object')\n",
    "\n",
    "# method 1\n",
    "index = np.random.choice(iris_2d.size, 20, replace=False)\n",
    "iris_2d.ravel()[index] = np.nan\n",
    "print(iris_2d)\n",
    "\n",
    "# method 2\n",
    "x,y = np.asarray(iris_2d).nonzero()\n",
    "np.random.seed(100)\n",
    "iris_2d[np.random.choice((x),20),np.random.choice((y),20)] = np.nan\n",
    "\n",
    "# method 3\n",
    "np.random.seed(100)\n",
    "iris_2d[np.random.randint(150, size=20), np.random.randint(4, size=20)] = np.nan"
   ]
  },
  {
   "cell_type": "code",
   "execution_count": 37,
   "metadata": {},
   "outputs": [
    {
     "name": "stdout",
     "output_type": "stream",
     "text": [
      "7\n",
      "(array([ 26,  31,  60,  68,  84, 108, 132], dtype=int64),)\n"
     ]
    }
   ],
   "source": [
    "url = 'https://archive.ics.uci.edu/ml/machine-learning-databases/iris/iris.data'\n",
    "iris_2d = np.genfromtxt(url, delimiter=',', dtype='float', usecols=[0,1,2,3])\n",
    "iris_2d[np.random.randint(150, size=20), np.random.randint(4, size=20)] = np.nan\n",
    "print(np.isnan(iris_2d[:,0]).sum())\n",
    "print(np.where(np.isnan(iris_2d[:,0])))"
   ]
  },
  {
   "cell_type": "code",
   "execution_count": 38,
   "metadata": {},
   "outputs": [
    {
     "ename": "TypeError",
     "evalue": "'>' not supported between instances of 'tuple' and 'float'",
     "output_type": "error",
     "traceback": [
      "\u001b[1;31m---------------------------------------------------------------------------\u001b[0m",
      "\u001b[1;31mTypeError\u001b[0m                                 Traceback (most recent call last)",
      "\u001b[1;32m<ipython-input-38-ed9d3d6eb0e6>\u001b[0m in \u001b[0;36m<module>\u001b[1;34m\u001b[0m\n\u001b[0;32m      1\u001b[0m \u001b[0murl\u001b[0m \u001b[1;33m=\u001b[0m \u001b[1;34m'https://archive.ics.uci.edu/ml/machine-learning-databases/iris/iris.data'\u001b[0m\u001b[1;33m\u001b[0m\u001b[1;33m\u001b[0m\u001b[0m\n\u001b[0;32m      2\u001b[0m \u001b[0miris_2d\u001b[0m \u001b[1;33m=\u001b[0m \u001b[0mnp\u001b[0m\u001b[1;33m.\u001b[0m\u001b[0mgenfromtxt\u001b[0m\u001b[1;33m(\u001b[0m\u001b[0murl\u001b[0m\u001b[1;33m,\u001b[0m \u001b[0mdelimiter\u001b[0m\u001b[1;33m=\u001b[0m\u001b[1;34m','\u001b[0m\u001b[1;33m,\u001b[0m \u001b[0mdtype\u001b[0m\u001b[1;33m=\u001b[0m\u001b[1;34m'float'\u001b[0m\u001b[1;33m,\u001b[0m \u001b[0musecols\u001b[0m\u001b[1;33m=\u001b[0m\u001b[1;33m[\u001b[0m\u001b[1;36m0\u001b[0m\u001b[1;33m,\u001b[0m\u001b[1;36m1\u001b[0m\u001b[1;33m,\u001b[0m\u001b[1;36m2\u001b[0m\u001b[1;33m,\u001b[0m\u001b[1;36m3\u001b[0m\u001b[1;33m]\u001b[0m\u001b[1;33m)\u001b[0m\u001b[1;33m\u001b[0m\u001b[1;33m\u001b[0m\u001b[0m\n\u001b[1;32m----> 3\u001b[1;33m \u001b[0mprint\u001b[0m\u001b[1;33m(\u001b[0m\u001b[0mnp\u001b[0m\u001b[1;33m.\u001b[0m\u001b[0mwhere\u001b[0m\u001b[1;33m(\u001b[0m\u001b[0miris_2d\u001b[0m\u001b[1;33m[\u001b[0m\u001b[1;36m3\u001b[0m\u001b[1;33m,\u001b[0m\u001b[1;33m:\u001b[0m\u001b[1;33m]\u001b[0m\u001b[1;33m)\u001b[0m\u001b[1;33m>\u001b[0m\u001b[1;36m1.5\u001b[0m\u001b[1;33m)\u001b[0m\u001b[1;33m\u001b[0m\u001b[1;33m\u001b[0m\u001b[0m\n\u001b[0m",
      "\u001b[1;31mTypeError\u001b[0m: '>' not supported between instances of 'tuple' and 'float'"
     ]
    }
   ],
   "source": [
    "url = 'https://archive.ics.uci.edu/ml/machine-learning-databases/iris/iris.data'\n",
    "iris_2d = np.genfromtxt(url, delimiter=',', dtype='float', usecols=[0,1,2,3])\n",
    "print(np.where(iris_2d[3,:])>1.5)"
   ]
  },
  {
   "cell_type": "code",
   "execution_count": null,
   "metadata": {},
   "outputs": [],
   "source": []
  }
 ],
 "metadata": {
  "kernelspec": {
   "display_name": "Python 3",
   "language": "python",
   "name": "python3"
  },
  "language_info": {
   "codemirror_mode": {
    "name": "ipython",
    "version": 3
   },
   "file_extension": ".py",
   "mimetype": "text/x-python",
   "name": "python",
   "nbconvert_exporter": "python",
   "pygments_lexer": "ipython3",
   "version": "3.7.4"
  }
 },
 "nbformat": 4,
 "nbformat_minor": 2
}
